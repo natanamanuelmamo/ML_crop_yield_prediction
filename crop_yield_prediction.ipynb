{
 "cells": [
  {
   "cell_type": "code",
   "execution_count": null,
   "id": "a2fe5b7e",
   "metadata": {},
   "outputs": [],
   "source": [
    "import pandas as pd\n",
    "import numpy as np\n",
    "import rasterio\n",
    "from rasterio.plot import show\n",
    "from datetime import datetime\n",
    "from sklearn.preprocessing import MinMaxScaler\n",
    "import matplotlib.pyplot as plt\n",
    "import seaborn as sns"
   ]
  },
  {
   "cell_type": "markdown",
   "id": "61964bd5",
   "metadata": {},
   "source": [
    "# ------------------------\n",
    "# 1. FAOSTAT Crop Yield Data\n",
    "# ------------------------"
   ]
  },
  {
   "cell_type": "code",
   "execution_count": null,
   "id": "98410fcd",
   "metadata": {},
   "outputs": [],
   "source": [
    "# Load the datasets\n",
    "faostat_df = pd.read_csv(\"1_FAOSTAT_data_en_5-13-2025.csv\")"
   ]
  },
  {
   "cell_type": "code",
   "execution_count": null,
   "id": "5282ce47",
   "metadata": {},
   "outputs": [],
   "source": [
    "# Inspect the dataset\n",
    "print(\"FAOSTAT Initial Info:\")\n",
    "print(faostat_df.info())\n",
    "print(faostat_df.head())"
   ]
  },
  {
   "cell_type": "code",
   "execution_count": null,
   "id": "1626c3ce",
   "metadata": {},
   "outputs": [],
   "source": [
    "# Select relevant columns (assuming Area, Item, Element, Year, Unit, Value are key)\n",
    "faostat_df = faostat_df[['Area', 'Item', 'Element', 'Year', 'Unit', 'Value']]"
   ]
  },
  {
   "cell_type": "code",
   "execution_count": null,
   "id": "8c49404b",
   "metadata": {},
   "outputs": [],
   "source": [
    "# Filter for Ethiopia and relevant elements (Yield, Area harvested, Production)\n",
    "faostat_df = faostat_df[faostat_df['Area'] == 'Ethiopia']\n",
    "elements = ['Yield', 'Area harvested', 'Production']\n",
    "faostat_df = faostat_df[faostat_df['Element'].isin(elements)]"
   ]
  },
  {
   "cell_type": "code",
   "execution_count": null,
   "id": "bdf07a80",
   "metadata": {},
   "outputs": [],
   "source": [
    "# Check for missing values\n",
    "print(\"FAOSTAT Missing Values:\")\n",
    "print(faostat_df.isnull().sum())"
   ]
  },
  {
   "cell_type": "code",
   "execution_count": null,
   "id": "96a5169f",
   "metadata": {},
   "outputs": [],
   "source": [
    "# Drop rows with missing values in 'Value' (if any)\n",
    "faostat_df = faostat_df.dropna(subset=['Value'])"
   ]
  },
  {
   "cell_type": "code",
   "execution_count": null,
   "id": "c5e08307",
   "metadata": {},
   "outputs": [],
   "source": [
    "# Pivot the data to have Yield, Area harvested, and Production as columns\n",
    "faostat_pivoted = faostat_df.pivot_table(\n",
    "    index=['Area', 'Item', 'Year'],\n",
    "    columns='Element',\n",
    "    values='Value',\n",
    "    aggfunc='first'\n",
    ").reset_index()"
   ]
  },
  {
   "cell_type": "code",
   "execution_count": null,
   "id": "4dcb89bb",
   "metadata": {},
   "outputs": [],
   "source": [
    "# Rename columns for clarity\n",
    "faostat_pivoted.columns = ['Area', 'Crop', 'Year', 'Area_Harvested', 'Production', 'Yield']"
   ]
  },
  {
   "cell_type": "code",
   "execution_count": null,
   "id": "37e1a241",
   "metadata": {},
   "outputs": [],
   "source": [
    "# Verify units (Yield: hg/ha, Area: ha, Production: tonnes)\n",
    "print(\"FAOSTAT Units:\")\n",
    "print(faostat_df[['Element', 'Unit']].drop_duplicates())"
   ]
  },
  {
   "cell_type": "code",
   "execution_count": null,
   "id": "fbeccd0a",
   "metadata": {},
   "outputs": [],
   "source": [
    "# Save cleaned FAOSTAT dataset\n",
    "# faostat_pivoted.to_csv(\"FAOSTAT_cleaned.csv\", index=False)\n",
    "print(\"FAOSTAT Cleaned Dataset Saved as 'FAOSTAT_cleaned.csv'\")"
   ]
  }
 ],
 "metadata": {
  "language_info": {
   "name": "python"
  }
 },
 "nbformat": 4,
 "nbformat_minor": 5
}

{
 "cells": [
  {
   "cell_type": "code",
   "execution_count": 1,
   "id": "a2fe5b7e",
   "metadata": {},
   "outputs": [],
   "source": [
    "import pandas as pd\n",
    "import numpy as np\n",
    "import rasterio\n",
    "from rasterio.plot import show\n",
    "from datetime import datetime\n",
    "from sklearn.preprocessing import MinMaxScaler\n",
    "import matplotlib.pyplot as plt\n",
    "import seaborn as sns"
   ]
  },
  {
   "cell_type": "markdown",
   "id": "61964bd5",
   "metadata": {},
   "source": [
    "# ------------------------\n",
    "# 1. FAOSTAT Crop Yield Data\n",
    "# ------------------------"
   ]
  },
  {
   "cell_type": "code",
   "execution_count": 2,
   "id": "98410fcd",
   "metadata": {},
   "outputs": [],
   "source": [
    "# Load the datasets\n",
    "faostat_df = pd.read_csv(\"1_FAOSTAT_data_en_5-13-2025.csv\")"
   ]
  },
  {
   "cell_type": "code",
   "execution_count": 3,
   "id": "5282ce47",
   "metadata": {},
   "outputs": [
    {
     "name": "stdout",
     "output_type": "stream",
     "text": [
      "FAOSTAT Initial Info:\n",
      "<class 'pandas.core.frame.DataFrame'>\n",
      "RangeIndex: 5292 entries, 0 to 5291\n",
      "Data columns (total 15 columns):\n",
      " #   Column            Non-Null Count  Dtype  \n",
      "---  ------            --------------  -----  \n",
      " 0   Domain Code       5292 non-null   object \n",
      " 1   Domain            5292 non-null   object \n",
      " 2   Area Code (M49)   5292 non-null   int64  \n",
      " 3   Area              5292 non-null   object \n",
      " 4   Element Code      5292 non-null   int64  \n",
      " 5   Element           5292 non-null   object \n",
      " 6   Item Code (CPC)   5292 non-null   float64\n",
      " 7   Item              5292 non-null   object \n",
      " 8   Year Code         5292 non-null   int64  \n",
      " 9   Year              5292 non-null   int64  \n",
      " 10  Unit              5292 non-null   object \n",
      " 11  Value             5142 non-null   float64\n",
      " 12  Flag              5292 non-null   object \n",
      " 13  Flag Description  5292 non-null   object \n",
      " 14  Note              102 non-null    object \n",
      "dtypes: float64(2), int64(4), object(9)\n",
      "memory usage: 620.3+ KB\n",
      "None\n",
      "  Domain Code                        Domain  Area Code (M49)      Area  \\\n",
      "0         QCL  Crops and livestock products              231  Ethiopia   \n",
      "1         QCL  Crops and livestock products              231  Ethiopia   \n",
      "2         QCL  Crops and livestock products              231  Ethiopia   \n",
      "3         QCL  Crops and livestock products              231  Ethiopia   \n",
      "4         QCL  Crops and livestock products              231  Ethiopia   \n",
      "\n",
      "   Element Code         Element  Item Code (CPC)  \\\n",
      "0          5312  Area harvested           1654.0   \n",
      "1          5412           Yield           1654.0   \n",
      "2          5510      Production           1654.0   \n",
      "3          5312  Area harvested           1654.0   \n",
      "4          5412           Yield           1654.0   \n",
      "\n",
      "                                                Item  Year Code  Year   Unit  \\\n",
      "0  Anise, badian, coriander, cumin, caraway, fenn...       2000  2000     ha   \n",
      "1  Anise, badian, coriander, cumin, caraway, fenn...       2000  2000  kg/ha   \n",
      "2  Anise, badian, coriander, cumin, caraway, fenn...       2000  2000      t   \n",
      "3  Anise, badian, coriander, cumin, caraway, fenn...       2001  2001     ha   \n",
      "4  Anise, badian, coriander, cumin, caraway, fenn...       2001  2001  kg/ha   \n",
      "\n",
      "   Value Flag Flag Description Note  \n",
      "0  800.0    E  Estimated value  NaN  \n",
      "1  625.0    E  Estimated value  NaN  \n",
      "2  500.0    E  Estimated value  NaN  \n",
      "3  960.0    E  Estimated value  NaN  \n",
      "4  625.0    E  Estimated value  NaN  \n"
     ]
    }
   ],
   "source": [
    "# Inspect the dataset\n",
    "print(\"FAOSTAT Initial Info:\")\n",
    "print(faostat_df.info())\n",
    "print(faostat_df.head())"
   ]
  },
  {
   "cell_type": "code",
   "execution_count": 4,
   "id": "1626c3ce",
   "metadata": {},
   "outputs": [],
   "source": [
    "# Select relevant columns (assuming Area, Item, Element, Year, Unit, Value are key)\n",
    "faostat_df = faostat_df[['Area', 'Item', 'Element', 'Year', 'Unit', 'Value']]"
   ]
  },
  {
   "cell_type": "code",
   "execution_count": 5,
   "id": "8c49404b",
   "metadata": {},
   "outputs": [],
   "source": [
    "# Filter for Ethiopia and relevant elements (Yield, Area harvested, Production)\n",
    "faostat_df = faostat_df[faostat_df['Area'] == 'Ethiopia']\n",
    "elements = ['Yield', 'Area harvested', 'Production']\n",
    "faostat_df = faostat_df[faostat_df['Element'].isin(elements)]"
   ]
  },
  {
   "cell_type": "code",
   "execution_count": 6,
   "id": "bdf07a80",
   "metadata": {},
   "outputs": [
    {
     "name": "stdout",
     "output_type": "stream",
     "text": [
      "FAOSTAT Missing Values:\n",
      "Area         0\n",
      "Item         0\n",
      "Element      0\n",
      "Year         0\n",
      "Unit         0\n",
      "Value      150\n",
      "dtype: int64\n"
     ]
    }
   ],
   "source": [
    "# Check for missing values\n",
    "print(\"FAOSTAT Missing Values:\")\n",
    "print(faostat_df.isnull().sum())"
   ]
  },
  {
   "cell_type": "code",
   "execution_count": 7,
   "id": "96a5169f",
   "metadata": {},
   "outputs": [],
   "source": [
    "# Drop rows with missing values in 'Value' (if any)\n",
    "faostat_df = faostat_df.dropna(subset=['Value'])"
   ]
  },
  {
   "cell_type": "code",
   "execution_count": 8,
   "id": "c5e08307",
   "metadata": {},
   "outputs": [],
   "source": [
    "# Pivot the data to have Yield, Area harvested, and Production as columns\n",
    "faostat_pivoted = faostat_df.pivot_table(\n",
    "    index=['Area', 'Item', 'Year'],\n",
    "    columns='Element',\n",
    "    values='Value',\n",
    "    aggfunc='first'\n",
    ").reset_index()"
   ]
  },
  {
   "cell_type": "code",
   "execution_count": 9,
   "id": "4dcb89bb",
   "metadata": {},
   "outputs": [],
   "source": [
    "# Rename columns for clarity\n",
    "faostat_pivoted.columns = ['Area', 'Crop', 'Year', 'Area_Harvested', 'Production', 'Yield']"
   ]
  },
  {
   "cell_type": "code",
   "execution_count": 10,
   "id": "37e1a241",
   "metadata": {},
   "outputs": [
    {
     "name": "stdout",
     "output_type": "stream",
     "text": [
      "FAOSTAT Units:\n",
      "          Element   Unit\n",
      "0  Area harvested     ha\n",
      "1           Yield  kg/ha\n",
      "2      Production      t\n"
     ]
    }
   ],
   "source": [
    "# Verify units (Yield: hg/ha, Area: ha, Production: tonnes)\n",
    "print(\"FAOSTAT Units:\")\n",
    "print(faostat_df[['Element', 'Unit']].drop_duplicates())"
   ]
  },
  {
   "cell_type": "code",
   "execution_count": 11,
   "id": "fbeccd0a",
   "metadata": {},
   "outputs": [
    {
     "name": "stdout",
     "output_type": "stream",
     "text": [
      "FAOSTAT Cleaned Dataset Saved as 'Cleaned_FAOSTAT.csv'\n"
     ]
    }
   ],
   "source": [
    "# Save cleaned FAOSTAT dataset\n",
    "# faostat_pivoted.to_csv(\"Cleaned_FAOSTAT.csv\", index=False)\n",
    "print(\"FAOSTAT Cleaned Dataset Saved as 'Cleaned_FAOSTAT.csv'\")"
   ]
  },
  {
   "cell_type": "markdown",
   "id": "3713383c",
   "metadata": {},
   "source": [
    "# ------------------------\n",
    "# 2. NDVI Data\n",
    "# ------------------------"
   ]
  },
  {
   "cell_type": "code",
   "execution_count": 12,
   "id": "90b48693",
   "metadata": {},
   "outputs": [],
   "source": [
    "# Load the datasets\n",
    "ndvi_df = pd.read_csv(\"2_Ethiopia_NDVI_Monthly.csv\")"
   ]
  },
  {
   "cell_type": "code",
   "execution_count": 13,
   "id": "d586d3c2",
   "metadata": {},
   "outputs": [
    {
     "name": "stdout",
     "output_type": "stream",
     "text": [
      "NDVI Initial Info:\n",
      "<class 'pandas.core.frame.DataFrame'>\n",
      "RangeIndex: 277 entries, 0 to 276\n",
      "Data columns (total 4 columns):\n",
      " #   Column        Non-Null Count  Dtype  \n",
      "---  ------        --------------  -----  \n",
      " 0   system:index  277 non-null    int64  \n",
      " 1   NDVI          277 non-null    float64\n",
      " 2   date          277 non-null    object \n",
      " 3   .geo          277 non-null    object \n",
      "dtypes: float64(1), int64(1), object(2)\n",
      "memory usage: 8.8+ KB\n",
      "None\n",
      "   system:index      NDVI     date                                    .geo\n",
      "0             0  0.263435  2000-02  {\"type\":\"MultiPoint\",\"coordinates\":[]}\n",
      "1             1  0.258993  2000-03  {\"type\":\"MultiPoint\",\"coordinates\":[]}\n",
      "2             2  0.312295  2000-04  {\"type\":\"MultiPoint\",\"coordinates\":[]}\n",
      "3             3  0.437923  2000-05  {\"type\":\"MultiPoint\",\"coordinates\":[]}\n",
      "4             4  0.399441  2000-06  {\"type\":\"MultiPoint\",\"coordinates\":[]}\n"
     ]
    }
   ],
   "source": [
    "# Inspect the dataset\n",
    "print(\"NDVI Initial Info:\")\n",
    "print(ndvi_df.info())\n",
    "print(ndvi_df.head())"
   ]
  },
  {
   "cell_type": "code",
   "execution_count": 14,
   "id": "11f3eb3b",
   "metadata": {},
   "outputs": [],
   "source": [
    "# Drop irrelevant '.geo' column\n",
    "ndvi_df = ndvi_df.drop(columns=['.geo', 'system:index'])"
   ]
  },
  {
   "cell_type": "code",
   "execution_count": 15,
   "id": "1a9d05da",
   "metadata": {},
   "outputs": [],
   "source": [
    "# Convert 'date' to datetime\n",
    "ndvi_df['date'] = pd.to_datetime(ndvi_df['date'], format='%Y-%m')"
   ]
  },
  {
   "cell_type": "code",
   "execution_count": 16,
   "id": "c3bbf9da",
   "metadata": {},
   "outputs": [
    {
     "name": "stdout",
     "output_type": "stream",
     "text": [
      "All NDVI values are within valid range (-1 to 1).\n"
     ]
    }
   ],
   "source": [
    "# Validate NDVI values (should be between -1 and 1)\n",
    "invalid_ndvi = ndvi_df[(ndvi_df['NDVI'] < -1) | (ndvi_df['NDVI'] > 1)]\n",
    "if not invalid_ndvi.empty:\n",
    "    print(\"Invalid NDVI values found:\", invalid_ndvi)\n",
    "else:\n",
    "    print(\"All NDVI values are within valid range (-1 to 1).\")"
   ]
  },
  {
   "cell_type": "code",
   "execution_count": 17,
   "id": "18569a36",
   "metadata": {},
   "outputs": [
    {
     "name": "stdout",
     "output_type": "stream",
     "text": [
      "NDVI Missing Values:\n",
      "NDVI    0\n",
      "date    0\n",
      "dtype: int64\n"
     ]
    }
   ],
   "source": [
    "# Check for missing values\n",
    "print(\"NDVI Missing Values:\")\n",
    "print(ndvi_df.isnull().sum())"
   ]
  },
  {
   "cell_type": "code",
   "execution_count": 18,
   "id": "45893a35",
   "metadata": {},
   "outputs": [],
   "source": [
    "# Drop rows with missing NDVI values (if any)\n",
    "ndvi_df = ndvi_df.dropna(subset=['NDVI'])"
   ]
  },
  {
   "cell_type": "code",
   "execution_count": 19,
   "id": "68ea2c20",
   "metadata": {},
   "outputs": [],
   "source": [
    "# Extract year and month for potential aggregation\n",
    "ndvi_df['Year'] = ndvi_df['date'].dt.year\n",
    "ndvi_df['Month'] = ndvi_df['date'].dt.month\n",
    "\n",
    "# Aggregate NDVI to yearly averages (or seasonal, depending on crop cycles)\n",
    "# For now, we'll compute yearly averages; adjust for seasonal if needed\n",
    "ndvi_yearly = ndvi_df.groupby('Year')['NDVI'].mean().reset_index()"
   ]
  },
  {
   "cell_type": "code",
   "execution_count": 20,
   "id": "0bb5253e",
   "metadata": {},
   "outputs": [
    {
     "name": "stdout",
     "output_type": "stream",
     "text": [
      "NDVI Cleaned Dataset Saved as 'Cleaned_NDVI.csv'\n"
     ]
    }
   ],
   "source": [
    "# Save cleaned NDVI dataset\n",
    "# ndvi_yearly.to_csv(\"Cleaned_NDVI.csv\", index=False)\n",
    "print(\"NDVI Cleaned Dataset Saved as 'Cleaned_NDVI.csv'\")"
   ]
  },
  {
   "cell_type": "code",
   "execution_count": 21,
   "id": "772dd561",
   "metadata": {},
   "outputs": [
    {
     "name": "stdout",
     "output_type": "stream",
     "text": [
      "\n",
      "Cleaned FAOSTAT Preview:\n",
      "       Area                                               Crop  Year  \\\n",
      "0  Ethiopia  Anise, badian, coriander, cumin, caraway, fenn...  2000   \n",
      "1  Ethiopia  Anise, badian, coriander, cumin, caraway, fenn...  2001   \n",
      "2  Ethiopia  Anise, badian, coriander, cumin, caraway, fenn...  2002   \n",
      "3  Ethiopia  Anise, badian, coriander, cumin, caraway, fenn...  2003   \n",
      "4  Ethiopia  Anise, badian, coriander, cumin, caraway, fenn...  2004   \n",
      "\n",
      "   Area_Harvested  Production  Yield  \n",
      "0           800.0       500.0  625.0  \n",
      "1           960.0       600.0  625.0  \n",
      "2          1120.0       700.0  625.0  \n",
      "3          1280.0       800.0  625.0  \n",
      "4          1440.0       900.0  625.0  \n",
      "\n",
      "Cleaned NDVI Preview:\n",
      "   Year      NDVI\n",
      "0  2000  0.400037\n",
      "1  2001  0.401398\n",
      "2  2002  0.400534\n",
      "3  2003  0.405961\n",
      "4  2004  0.405473\n"
     ]
    }
   ],
   "source": [
    "# Preview cleaned datasets\n",
    "print(\"\\nCleaned FAOSTAT Preview:\")\n",
    "print(faostat_pivoted.head())\n",
    "print(\"\\nCleaned NDVI Preview:\")\n",
    "print(ndvi_yearly.head())"
   ]
  },
  {
   "cell_type": "markdown",
   "id": "e425cc03",
   "metadata": {},
   "source": [
    "# ------------------------\n",
    "# 3. NASA POWER Weather Data\n",
    "# ------------------------"
   ]
  },
  {
   "cell_type": "markdown",
   "id": "8187dc41",
   "metadata": {},
   "source": [
    "# ------------------------\n",
    "### 3.1 Solar Radiation\n",
    "# ------------------------"
   ]
  },
  {
   "cell_type": "code",
   "execution_count": 22,
   "id": "5d3ba0e5",
   "metadata": {},
   "outputs": [],
   "source": [
    "# Load the dataset\n",
    "nasa_df = pd.read_csv('3_POWER_Regional_Monthly_2000_2023 (2).csv', skiprows=9)"
   ]
  },
  {
   "cell_type": "code",
   "execution_count": 23,
   "id": "8e4b4a87",
   "metadata": {},
   "outputs": [
    {
     "name": "stdout",
     "output_type": "stream",
     "text": [
      "NASA Power Initial Info:\n",
      "<class 'pandas.core.frame.DataFrame'>\n",
      "RangeIndex: 2160 entries, 0 to 2159\n",
      "Data columns (total 17 columns):\n",
      " #   Column     Non-Null Count  Dtype  \n",
      "---  ------     --------------  -----  \n",
      " 0   PARAMETER  2160 non-null   object \n",
      " 1   YEAR       2160 non-null   int64  \n",
      " 2   LAT        2160 non-null   float64\n",
      " 3   LON        2160 non-null   float64\n",
      " 4   JAN        2160 non-null   float64\n",
      " 5   FEB        2160 non-null   float64\n",
      " 6   MAR        2160 non-null   float64\n",
      " 7   APR        2160 non-null   float64\n",
      " 8   MAY        2160 non-null   float64\n",
      " 9   JUN        2160 non-null   float64\n",
      " 10  JUL        2160 non-null   float64\n",
      " 11  AUG        2160 non-null   float64\n",
      " 12  SEP        2160 non-null   float64\n",
      " 13  OCT        2160 non-null   float64\n",
      " 14  NOV        2160 non-null   float64\n",
      " 15  DEC        2160 non-null   float64\n",
      " 16  ANN        2160 non-null   float64\n",
      "dtypes: float64(15), int64(1), object(1)\n",
      "memory usage: 287.0+ KB\n",
      "None\n",
      "           PARAMETER  YEAR   LAT   LON    JAN    FEB    MAR    APR    MAY  \\\n",
      "0  ALLSKY_SFC_SW_DWN  2000  10.5  33.5  21.93  23.45  25.34  21.48  19.07   \n",
      "1  ALLSKY_SFC_SW_DWN  2000  10.5  34.5  21.52  23.12  24.95  20.90  19.83   \n",
      "2  ALLSKY_SFC_SW_DWN  2000  10.5  35.5  21.68  23.60  25.10  21.28  21.05   \n",
      "3  ALLSKY_SFC_SW_DWN  2000  10.5  36.5  21.49  23.23  24.59  21.39  21.34   \n",
      "4  ALLSKY_SFC_SW_DWN  2000  10.5  37.5  22.38  24.45  25.11  20.66  22.31   \n",
      "\n",
      "     JUN    JUL    AUG    SEP    OCT    NOV    DEC    ANN  \n",
      "0  18.36  17.66  17.80  18.88  19.78  21.21  21.01  20.50  \n",
      "1  18.94  16.71  17.17  18.75  18.69  20.81  20.97  20.20  \n",
      "2  19.78  16.80  17.35  19.56  18.39  20.77  20.70  20.51  \n",
      "3  19.53  16.74  16.57  19.40  18.47  20.92  20.43  20.34  \n",
      "4  20.03  17.41  16.54  19.84  19.04  20.26  21.04  20.76  \n"
     ]
    }
   ],
   "source": [
    "# Inspect the dataset\n",
    "print(\"NASA Power Initial Info:\")\n",
    "print(nasa_df.info())\n",
    "print(nasa_df.head())"
   ]
  },
  {
   "cell_type": "code",
   "execution_count": 24,
   "id": "79259aeb",
   "metadata": {},
   "outputs": [],
   "source": [
    "# Check if PARAMETER is uniform (all ALLSKY_SFC_SW_DWN)\n",
    "if nasa_df['PARAMETER'].nunique() == 1:\n",
    "    nasa_df = nasa_df.drop(columns=['PARAMETER'])"
   ]
  },
  {
   "cell_type": "code",
   "execution_count": 25,
   "id": "880d7379",
   "metadata": {},
   "outputs": [],
   "source": [
    "# Replace -999 with NaN for missing data\n",
    "nasa_df = nasa_df.replace(-999, np.nan)"
   ]
  },
  {
   "cell_type": "code",
   "execution_count": 26,
   "id": "3feaae0d",
   "metadata": {},
   "outputs": [
    {
     "name": "stdout",
     "output_type": "stream",
     "text": [
      "NASA Power Missing Values:\n",
      "YEAR    0\n",
      "LAT     0\n",
      "LON     0\n",
      "JAN     0\n",
      "FEB     0\n",
      "MAR     0\n",
      "APR     0\n",
      "MAY     0\n",
      "JUN     0\n",
      "JUL     0\n",
      "AUG     0\n",
      "SEP     0\n",
      "OCT     0\n",
      "NOV     0\n",
      "DEC     0\n",
      "ANN     0\n",
      "dtype: int64\n"
     ]
    }
   ],
   "source": [
    "# Check for missing values\n",
    "print(\"NASA Power Missing Values:\")\n",
    "print(nasa_df.isnull().sum())"
   ]
  },
  {
   "cell_type": "code",
   "execution_count": 27,
   "id": "dafbbcc4",
   "metadata": {},
   "outputs": [],
   "source": [
    "# Drop rows with NaN in all monthly columns (JAN-DEC)\n",
    "monthly_cols = ['JAN', 'FEB', 'MAR', 'APR', 'MAY', 'JUN', 'JUL', 'AUG', 'SEP', 'OCT', 'NOV', 'DEC']\n",
    "nasa_df = nasa_df.dropna(subset=monthly_cols, how='all')\n",
    "\n",
    "# Melt monthly columns into long format\n",
    "nasa_melted = pd.melt(\n",
    "    nasa_df,\n",
    "    id_vars=['YEAR', 'LAT', 'LON'],\n",
    "    value_vars=monthly_cols,\n",
    "    var_name='Month',\n",
    "    value_name='Solar_Radiation'\n",
    ")\n",
    "\n",
    "# Map month abbreviations to numbers\n",
    "month_map = {\n",
    "    'JAN': 1, 'FEB': 2, 'MAR': 3, 'APR': 4, 'MAY': 5, 'JUN': 6,\n",
    "    'JUL': 7, 'AUG': 8, 'SEP': 9, 'OCT': 10, 'NOV': 11, 'DEC': 12\n",
    "}\n",
    "nasa_melted['Month'] = nasa_melted['Month'].map(month_map)"
   ]
  },
  {
   "cell_type": "code",
   "execution_count": 28,
   "id": "fb0acfee",
   "metadata": {},
   "outputs": [],
   "source": [
    "# Create a datetime column\n",
    "nasa_melted['Date'] = pd.to_datetime(nasa_melted[['YEAR', 'Month']].assign(DAY=1))"
   ]
  },
  {
   "cell_type": "code",
   "execution_count": 29,
   "id": "c3583e30",
   "metadata": {},
   "outputs": [],
   "source": [
    "# Drop rows with NaN in Solar_Radiation\n",
    "nasa_melted = nasa_melted.dropna(subset=['Solar_Radiation'])"
   ]
  },
  {
   "cell_type": "code",
   "execution_count": 30,
   "id": "d205fdb4",
   "metadata": {},
   "outputs": [],
   "source": [
    "# Aggregate spatially (average across LAT/LON) for national-level data\n",
    "nasa_agg = nasa_melted.groupby(['Date', 'YEAR'])['Solar_Radiation'].mean().reset_index()\n",
    "\n",
    "# Compute yearly averages for alignment with FAOSTAT\n",
    "nasa_yearly = nasa_agg.groupby('YEAR')['Solar_Radiation'].mean().reset_index()"
   ]
  },
  {
   "cell_type": "code",
   "execution_count": 31,
   "id": "6d24ac89",
   "metadata": {},
   "outputs": [
    {
     "name": "stdout",
     "output_type": "stream",
     "text": [
      "NASA Power Cleaned Datasets Saved as 'Cleaned_NASA_Power_SolarRadiation_monthly.csv' and 'Cleaned_NASA_Power_SolarRadiation_cleaned_yearly.csv'\n",
      "\n",
      "Cleaned NASA Power Monthly Preview:\n",
      "   YEAR   LAT   LON  Month  Solar_Radiation       Date\n",
      "0  2000  10.5  33.5      1            21.93 2000-01-01\n",
      "1  2000  10.5  34.5      1            21.52 2000-01-01\n",
      "2  2000  10.5  35.5      1            21.68 2000-01-01\n",
      "3  2000  10.5  36.5      1            21.49 2000-01-01\n",
      "4  2000  10.5  37.5      1            22.38 2000-01-01\n",
      "\n",
      "Cleaned NASA Power Yearly Preview:\n",
      "   YEAR  Solar_Radiation\n",
      "0  2000        21.225880\n",
      "1  2001        20.336213\n",
      "2  2002        20.732056\n",
      "3  2003        21.020926\n",
      "4  2004        21.042417\n"
     ]
    }
   ],
   "source": [
    "# Save cleaned datasets\n",
    "# nasa_melted.to_csv(\"Cleaned_NASA_Power_SolarRadiation_monthly.csv\", index=False)\n",
    "# nasa_yearly.to_csv(\"Cleaned_NASA_Power_SolarRadiation_cleaned_yearly.csv\", index=False)\n",
    "print(\"NASA Power Cleaned Datasets Saved as 'Cleaned_NASA_Power_SolarRadiation_monthly.csv' and 'Cleaned_NASA_Power_SolarRadiation_cleaned_yearly.csv'\")\n",
    "\n",
    "# Preview cleaned datasets\n",
    "print(\"\\nCleaned NASA Power Monthly Preview:\")\n",
    "print(nasa_melted.head())\n",
    "print(\"\\nCleaned NASA Power Yearly Preview:\")\n",
    "print(nasa_yearly.head())"
   ]
  },
  {
   "cell_type": "markdown",
   "id": "5652a1f2",
   "metadata": {},
   "source": [
    "# ------------------------\n",
    "### 3.2 Temperature\n",
    "# ------------------------"
   ]
  },
  {
   "cell_type": "code",
   "execution_count": 32,
   "id": "bdd4c0d5",
   "metadata": {},
   "outputs": [],
   "source": [
    "# Load the dataset\n",
    "nasa_temp_df = pd.read_csv('3_POWER_Regional_Monthly_2000_2023.csv', skiprows=9)"
   ]
  },
  {
   "cell_type": "code",
   "execution_count": 33,
   "id": "1107036a",
   "metadata": {},
   "outputs": [
    {
     "name": "stdout",
     "output_type": "stream",
     "text": [
      "NASA Power Temperature Initial Info:\n",
      "<class 'pandas.core.frame.DataFrame'>\n",
      "RangeIndex: 7296 entries, 0 to 7295\n",
      "Data columns (total 17 columns):\n",
      " #   Column     Non-Null Count  Dtype  \n",
      "---  ------     --------------  -----  \n",
      " 0   PARAMETER  7296 non-null   object \n",
      " 1   YEAR       7296 non-null   int64  \n",
      " 2   LAT        7296 non-null   float64\n",
      " 3   LON        7296 non-null   float64\n",
      " 4   JAN        7296 non-null   float64\n",
      " 5   FEB        7296 non-null   float64\n",
      " 6   MAR        7296 non-null   float64\n",
      " 7   APR        7296 non-null   float64\n",
      " 8   MAY        7296 non-null   float64\n",
      " 9   JUN        7296 non-null   float64\n",
      " 10  JUL        7296 non-null   float64\n",
      " 11  AUG        7296 non-null   float64\n",
      " 12  SEP        7296 non-null   float64\n",
      " 13  OCT        7296 non-null   float64\n",
      " 14  NOV        7296 non-null   float64\n",
      " 15  DEC        7296 non-null   float64\n",
      " 16  ANN        7296 non-null   float64\n",
      "dtypes: float64(15), int64(1), object(1)\n",
      "memory usage: 969.1+ KB\n",
      "None\n",
      "  PARAMETER  YEAR   LAT     LON    JAN    FEB    MAR    APR    MAY    JUN  \\\n",
      "0       T2M  2000  10.0  33.125  29.43  30.45  32.17  32.27  29.56  29.35   \n",
      "1       T2M  2000  10.0  33.750  29.71  30.91  32.69  31.42  28.65  27.87   \n",
      "2       T2M  2000  10.0  34.375  25.70  27.99  29.96  27.93  25.53  24.34   \n",
      "3       T2M  2000  10.0  35.000  23.26  25.62  27.93  25.21  23.97  22.55   \n",
      "4       T2M  2000  10.0  35.625  25.55  27.51  30.29  27.37  26.21  24.73   \n",
      "\n",
      "     JUL    AUG    SEP    OCT    NOV    DEC    ANN  \n",
      "0  26.47  26.40  27.63  27.78  30.72  29.22  29.29  \n",
      "1  25.21  24.97  26.10  26.36  29.03  29.43  28.53  \n",
      "2  21.79  21.71  22.51  22.89  24.60  25.28  25.02  \n",
      "3  20.02  20.31  20.81  20.99  22.41  22.71  22.98  \n",
      "4  22.08  22.59  22.91  22.84  24.38  24.81  25.11  \n"
     ]
    }
   ],
   "source": [
    "# Inspect the dataset\n",
    "print(\"NASA Power Temperature Initial Info:\")\n",
    "print(nasa_temp_df.info())\n",
    "print(nasa_temp_df.head())"
   ]
  },
  {
   "cell_type": "code",
   "execution_count": 34,
   "id": "d9aaff92",
   "metadata": {},
   "outputs": [
    {
     "name": "stdout",
     "output_type": "stream",
     "text": [
      "NASA Power Temperature Missing Values:\n",
      "YEAR    0\n",
      "LAT     0\n",
      "LON     0\n",
      "JAN     0\n",
      "FEB     0\n",
      "MAR     0\n",
      "APR     0\n",
      "MAY     0\n",
      "JUN     0\n",
      "JUL     0\n",
      "AUG     0\n",
      "SEP     0\n",
      "OCT     0\n",
      "NOV     0\n",
      "DEC     0\n",
      "ANN     0\n",
      "dtype: int64\n"
     ]
    }
   ],
   "source": [
    "# Check if PARAMETER is uniform (all T2M)\n",
    "if nasa_temp_df['PARAMETER'].nunique() == 1:\n",
    "    nasa_temp_df = nasa_temp_df.drop(columns=['PARAMETER'])\n",
    "\n",
    "# Replace -999 with NaN for missing data\n",
    "nasa_temp_df = nasa_temp_df.replace(-999, np.nan)\n",
    "\n",
    "# Check for missing values\n",
    "print(\"NASA Power Temperature Missing Values:\")\n",
    "print(nasa_temp_df.isnull().sum())"
   ]
  },
  {
   "cell_type": "code",
   "execution_count": 35,
   "id": "187006b3",
   "metadata": {},
   "outputs": [],
   "source": [
    "# Drop rows with NaN in all monthly columns (JAN-DEC)\n",
    "monthly_cols = ['JAN', 'FEB', 'MAR', 'APR', 'MAY', 'JUN', 'JUL', 'AUG', 'SEP', 'OCT', 'NOV', 'DEC']\n",
    "nasa_temp_df = nasa_temp_df.dropna(subset=monthly_cols, how='all')"
   ]
  },
  {
   "cell_type": "code",
   "execution_count": 36,
   "id": "600aa6e6",
   "metadata": {},
   "outputs": [],
   "source": [
    "# Melt monthly columns into long format\n",
    "nasa_temp_melted = pd.melt(\n",
    "    nasa_temp_df,\n",
    "    id_vars=['YEAR', 'LAT', 'LON'],\n",
    "    value_vars=monthly_cols,\n",
    "    var_name='Month',\n",
    "    value_name='Temperature'\n",
    ")\n",
    "\n",
    "# Map month abbreviations to numbers\n",
    "month_map = {\n",
    "    'JAN': 1, 'FEB': 2, 'MAR': 3, 'APR': 4, 'MAY': 5, 'JUN': 6,\n",
    "    'JUL': 7, 'AUG': 8, 'SEP': 9, 'OCT': 10, 'NOV': 11, 'DEC': 12\n",
    "}\n",
    "nasa_temp_melted['Month'] = nasa_temp_melted['Month'].map(month_map)"
   ]
  },
  {
   "cell_type": "code",
   "execution_count": 37,
   "id": "d8f44c19",
   "metadata": {},
   "outputs": [],
   "source": [
    "# Create a datetime column\n",
    "nasa_temp_melted['Date'] = pd.to_datetime(nasa_temp_melted[['YEAR', 'Month']].assign(DAY=1))"
   ]
  },
  {
   "cell_type": "code",
   "execution_count": 38,
   "id": "a75cf324",
   "metadata": {},
   "outputs": [],
   "source": [
    "# Drop rows with NaN in Temperature\n",
    "nasa_temp_melted = nasa_temp_melted.dropna(subset=['Temperature'])"
   ]
  },
  {
   "cell_type": "code",
   "execution_count": 39,
   "id": "158d0e65",
   "metadata": {},
   "outputs": [],
   "source": [
    "# Aggregate spatially (average across LAT/LON) for national-level data\n",
    "nasa_temp_agg = nasa_temp_melted.groupby(['Date', 'YEAR'])['Temperature'].mean().reset_index()"
   ]
  },
  {
   "cell_type": "code",
   "execution_count": 40,
   "id": "fd18ba65",
   "metadata": {},
   "outputs": [],
   "source": [
    "# Compute yearly averages for alignment with FAOSTAT\n",
    "nasa_temp_yearly = nasa_temp_agg.groupby('YEAR')['Temperature'].mean().reset_index()"
   ]
  },
  {
   "cell_type": "code",
   "execution_count": null,
   "id": "b349c0ce",
   "metadata": {},
   "outputs": [
    {
     "name": "stdout",
     "output_type": "stream",
     "text": [
      "Cleaned Datasets 'Cleaned_NASA_Power_Temperature_monthly.csv' and 'Cleaned_NASA_Power_Temperature_yearly.csv'\n",
      "\n",
      "Cleaned NASA Power Temperature Monthly Preview:\n",
      "   YEAR   LAT     LON  Month  Temperature       Date\n",
      "0  2000  10.0  33.125      1        29.43 2000-01-01\n",
      "1  2000  10.0  33.750      1        29.71 2000-01-01\n",
      "2  2000  10.0  34.375      1        25.70 2000-01-01\n",
      "3  2000  10.0  35.000      1        23.26 2000-01-01\n",
      "4  2000  10.0  35.625      1        25.55 2000-01-01\n",
      "\n",
      "Cleaned NASA Power Temperature Yearly Preview:\n",
      "   YEAR  Temperature\n",
      "0  2000    24.219794\n",
      "1  2001    24.240258\n",
      "2  2002    24.669570\n",
      "3  2003    24.660510\n",
      "4  2004    24.621598\n"
     ]
    }
   ],
   "source": [
    "# Save cleaned datasets\n",
    "# nasa_temp_melted.to_csv(\"Cleaned_NASA_Power_Temperature_monthly.csv\", index=False)\n",
    "# nasa_temp_yearly.to_csv(\"Cleaned_NASA_Power_Temperature_yearly.csv\", index=False)\n",
    "print(\"Cleaned Datasets 'Cleaned_NASA_Power_Temperature_monthly.csv' and 'Cleaned_NASA_Power_Temperature_yearly.csv'\")\n",
    "\n",
    "# Preview cleaned datasets\n",
    "print(\"\\nCleaned NASA Power Temperature Monthly Preview:\")\n",
    "print(nasa_temp_melted.head())\n",
    "print(\"\\nCleaned NASA Power Temperature Yearly Preview:\")\n",
    "print(nasa_temp_yearly.head())"
   ]
  },
  {
   "cell_type": "markdown",
   "id": "6e8f5523",
   "metadata": {},
   "source": [
    "# ------------------------\n",
    "### 3.3 Precipitation\n",
    "# ------------------------"
   ]
  },
  {
   "cell_type": "code",
   "execution_count": 42,
   "id": "2e3c3fcb",
   "metadata": {},
   "outputs": [],
   "source": [
    "# Load the dataset\n",
    "nasa_precip_df = pd.read_csv('3_POWER_Regional_Monthly_2000_2023 (1).csv', skiprows=9)"
   ]
  },
  {
   "cell_type": "code",
   "execution_count": 43,
   "id": "b39dff12",
   "metadata": {},
   "outputs": [
    {
     "name": "stdout",
     "output_type": "stream",
     "text": [
      "NASA Power Precipitation Initial Info:\n",
      "<class 'pandas.core.frame.DataFrame'>\n",
      "RangeIndex: 7296 entries, 0 to 7295\n",
      "Data columns (total 17 columns):\n",
      " #   Column     Non-Null Count  Dtype  \n",
      "---  ------     --------------  -----  \n",
      " 0   PARAMETER  7296 non-null   object \n",
      " 1   YEAR       7296 non-null   int64  \n",
      " 2   LAT        7296 non-null   float64\n",
      " 3   LON        7296 non-null   float64\n",
      " 4   JAN        7296 non-null   float64\n",
      " 5   FEB        7296 non-null   float64\n",
      " 6   MAR        7296 non-null   float64\n",
      " 7   APR        7296 non-null   float64\n",
      " 8   MAY        7296 non-null   float64\n",
      " 9   JUN        7296 non-null   float64\n",
      " 10  JUL        7296 non-null   float64\n",
      " 11  AUG        7296 non-null   float64\n",
      " 12  SEP        7296 non-null   float64\n",
      " 13  OCT        7296 non-null   float64\n",
      " 14  NOV        7296 non-null   float64\n",
      " 15  DEC        7296 non-null   float64\n",
      " 16  ANN        7296 non-null   float64\n",
      "dtypes: float64(15), int64(1), object(1)\n",
      "memory usage: 969.1+ KB\n",
      "None\n",
      "     PARAMETER  YEAR   LAT     LON   JAN   FEB   MAR   APR   MAY   JUN   JUL  \\\n",
      "0  PRECTOTCORR  2000  10.0  33.125  0.00  0.09  0.02  0.88  2.37  2.61  4.65   \n",
      "1  PRECTOTCORR  2000  10.0  33.750  0.02  0.20  0.11  1.13  3.30  3.69  6.49   \n",
      "2  PRECTOTCORR  2000  10.0  34.375  0.05  0.22  0.30  1.41  4.86  4.42  8.94   \n",
      "3  PRECTOTCORR  2000  10.0  35.000  0.04  0.11  0.31  2.17  4.59  3.93  8.02   \n",
      "4  PRECTOTCORR  2000  10.0  35.625  0.01  0.01  0.17  2.72  3.73  3.78  7.01   \n",
      "\n",
      "    AUG   SEP   OCT   NOV   DEC   ANN  \n",
      "0  4.15  2.21  2.06  0.25  0.01  1.61  \n",
      "1  5.13  2.80  2.50  0.42  0.01  2.15  \n",
      "2  6.64  3.51  3.05  0.42  0.02  2.82  \n",
      "3  6.06  4.46  3.54  0.45  0.07  2.81  \n",
      "4  5.77  6.75  4.16  0.53  0.13  2.90  \n"
     ]
    }
   ],
   "source": [
    "# Inspect the dataset\n",
    "print(\"NASA Power Precipitation Initial Info:\")\n",
    "print(nasa_precip_df.info())\n",
    "print(nasa_precip_df.head())"
   ]
  },
  {
   "cell_type": "code",
   "execution_count": 44,
   "id": "3577bd11",
   "metadata": {},
   "outputs": [],
   "source": [
    "# Check if PARAMETER is uniform (all PRECTOTCORR)\n",
    "if nasa_precip_df['PARAMETER'].nunique() == 1:\n",
    "    nasa_precip_df = nasa_precip_df.drop(columns=['PARAMETER'])"
   ]
  },
  {
   "cell_type": "code",
   "execution_count": 45,
   "id": "b3f5b0ea",
   "metadata": {},
   "outputs": [
    {
     "name": "stdout",
     "output_type": "stream",
     "text": [
      "NASA Power Precipitation Missing Values:\n",
      "YEAR    0\n",
      "LAT     0\n",
      "LON     0\n",
      "JAN     0\n",
      "FEB     0\n",
      "MAR     0\n",
      "APR     0\n",
      "MAY     0\n",
      "JUN     0\n",
      "JUL     0\n",
      "AUG     0\n",
      "SEP     0\n",
      "OCT     0\n",
      "NOV     0\n",
      "DEC     0\n",
      "ANN     0\n",
      "dtype: int64\n"
     ]
    }
   ],
   "source": [
    "# Replace -999 with NaN for missing data\n",
    "nasa_precip_df = nasa_precip_df.replace(-999, np.nan)\n",
    "\n",
    "# Check for missing values\n",
    "print(\"NASA Power Precipitation Missing Values:\")\n",
    "print(nasa_precip_df.isnull().sum())"
   ]
  },
  {
   "cell_type": "code",
   "execution_count": 46,
   "id": "767a6bcd",
   "metadata": {},
   "outputs": [],
   "source": [
    "# Drop rows with NaN in all monthly columns (JAN-DEC)\n",
    "monthly_cols = ['JAN', 'FEB', 'MAR', 'APR', 'MAY', 'JUN', 'JUL', 'AUG', 'SEP', 'OCT', 'NOV', 'DEC']\n",
    "nasa_precip_df = nasa_precip_df.dropna(subset=monthly_cols, how='all')"
   ]
  },
  {
   "cell_type": "code",
   "execution_count": 47,
   "id": "87b3b03a",
   "metadata": {},
   "outputs": [],
   "source": [
    "# Melt monthly columns into long format\n",
    "nasa_precip_melted = pd.melt(\n",
    "    nasa_precip_df,\n",
    "    id_vars=['YEAR', 'LAT', 'LON'],\n",
    "    value_vars=monthly_cols,\n",
    "    var_name='Month',\n",
    "    value_name='Precipitation'\n",
    ")\n",
    "\n",
    "# Map month abbreviations to numbers\n",
    "month_map = {\n",
    "    'JAN': 1, 'FEB': 2, 'MAR': 3, 'APR': 4, 'MAY': 5, 'JUN': 6,\n",
    "    'JUL': 7, 'AUG': 8, 'SEP': 9, 'OCT': 10, 'NOV': 11, 'DEC': 12\n",
    "}\n",
    "nasa_precip_melted['Month'] = nasa_precip_melted['Month'].map(month_map)"
   ]
  },
  {
   "cell_type": "code",
   "execution_count": 48,
   "id": "c6d67727",
   "metadata": {},
   "outputs": [],
   "source": [
    "# Create a datetime column\n",
    "nasa_precip_melted['Date'] = pd.to_datetime(nasa_precip_melted[['YEAR', 'Month']].assign(DAY=1))"
   ]
  },
  {
   "cell_type": "code",
   "execution_count": 49,
   "id": "96921e6a",
   "metadata": {},
   "outputs": [],
   "source": [
    "# Drop rows with NaN in Precipitation\n",
    "nasa_precip_melted = nasa_precip_melted.dropna(subset=['Precipitation'])"
   ]
  },
  {
   "cell_type": "code",
   "execution_count": 50,
   "id": "74646783",
   "metadata": {},
   "outputs": [],
   "source": [
    "# Aggregate spatially (average across LAT/LON) for national-level data\n",
    "nasa_precip_agg = nasa_precip_melted.groupby(['Date', 'YEAR'])['Precipitation'].mean().reset_index()\n",
    "\n",
    "# Compute yearly averages for alignment with FAOSTAT\n",
    "nasa_precip_yearly = nasa_precip_agg.groupby('YEAR')['Precipitation'].mean().reset_index()"
   ]
  },
  {
   "cell_type": "code",
   "execution_count": null,
   "id": "5f61fe4d",
   "metadata": {},
   "outputs": [
    {
     "name": "stdout",
     "output_type": "stream",
     "text": [
      "NASA Power Precipitation Cleaned Datasets Saved as 'Cleaned_NASA_Power_Precipitation_monthly.csv' and 'Cleaned_NASA_Power_Precipitation_yearly.csv'\n",
      "\n",
      "Cleaned NASA Power Precipitation Monthly Preview:\n",
      "   YEAR   LAT     LON  Month  Precipitation       Date\n",
      "0  2000  10.0  33.125      1           0.00 2000-01-01\n",
      "1  2000  10.0  33.750      1           0.02 2000-01-01\n",
      "2  2000  10.0  34.375      1           0.05 2000-01-01\n",
      "3  2000  10.0  35.000      1           0.04 2000-01-01\n",
      "4  2000  10.0  35.625      1           0.01 2000-01-01\n",
      "\n",
      "Cleaned NASA Power Precipitation Yearly Preview:\n",
      "   YEAR  Precipitation\n",
      "0  2000       1.640576\n",
      "1  2001       1.767802\n",
      "2  2002       1.674238\n",
      "3  2003       1.633662\n",
      "4  2004       1.579301\n"
     ]
    }
   ],
   "source": [
    "# Save cleaned datasets\n",
    "# nasa_precip_melted.to_csv(\"Cleaned_NASA_Power_Precipitation_monthly.csv\", index=False)\n",
    "# nasa_precip_yearly.to_csv(\"Cleaned_NASA_Power_Precipitation_yearly.csv\", index=False)\n",
    "print(\"NASA Power Precipitation Cleaned Datasets Saved as 'Cleaned_NASA_Power_Precipitation_monthly.csv' and 'Cleaned_NASA_Power_Precipitation_yearly.csv'\")\n",
    "\n",
    "# Preview cleaned datasets\n",
    "print(\"\\nCleaned NASA Power Precipitation Monthly Preview:\")\n",
    "print(nasa_precip_melted.head())\n",
    "print(\"\\nCleaned NASA Power Precipitation Yearly Preview:\")\n",
    "print(nasa_precip_yearly.head())"
   ]
  }
 ],
 "metadata": {
  "kernelspec": {
   "display_name": "Python 3",
   "language": "python",
   "name": "python3"
  },
  "language_info": {
   "codemirror_mode": {
    "name": "ipython",
    "version": 3
   },
   "file_extension": ".py",
   "mimetype": "text/x-python",
   "name": "python",
   "nbconvert_exporter": "python",
   "pygments_lexer": "ipython3",
   "version": "3.12.7"
  }
 },
 "nbformat": 4,
 "nbformat_minor": 5
}
